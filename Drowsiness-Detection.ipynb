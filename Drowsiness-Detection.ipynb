{
 "cells": [
  {
   "cell_type": "code",
   "execution_count": 1,
   "id": "32e864c1",
   "metadata": {
    "scrolled": true
   },
   "outputs": [
    {
     "name": "stdout",
     "output_type": "stream",
     "text": [
      "Requirement already satisfied: opencv-python in c:\\python\\lib\\site-packages (4.7.0.72)"
     ]
    },
    {
     "name": "stderr",
     "output_type": "stream",
     "text": [
      "DEPRECATION: Loading egg at c:\\python\\lib\\site-packages\\vboxapi-1.0-py3.11.egg is deprecated. pip 24.3 will enforce this behaviour change. A possible replacement is to use pip for package installation. Discussion can be found at https://github.com/pypa/pip/issues/12330\n",
      "\n",
      "[notice] A new release of pip is available: 24.1.2 -> 24.2\n",
      "[notice] To update, run: python.exe -m pip install --upgrade pip\n"
     ]
    },
    {
     "name": "stdout",
     "output_type": "stream",
     "text": [
      "\n",
      "Requirement already satisfied: dlib in c:\\python\\lib\\site-packages (19.24.1)\n",
      "Requirement already satisfied: imutils in c:\\python\\lib\\site-packages (0.5.4)\n",
      "Requirement already satisfied: numpy>=1.21.2 in c:\\python\\lib\\site-packages (from opencv-python) (1.24.2)\n"
     ]
    }
   ],
   "source": [
    "!pip install opencv-python dlib imutils\n"
   ]
  },
  {
   "cell_type": "code",
   "execution_count": 1,
   "id": "6934abe5",
   "metadata": {},
   "outputs": [],
   "source": [
    "from imutils import face_utils\n",
    "import cv2"
   ]
  },
  {
   "cell_type": "code",
   "execution_count": 2,
   "id": "82e06b09",
   "metadata": {},
   "outputs": [],
   "source": [
    "import numpy as np"
   ]
  },
  {
   "cell_type": "code",
   "execution_count": 3,
   "id": "f1ffc290",
   "metadata": {},
   "outputs": [],
   "source": [
    "# Dlib for deep learning based Modules and face landmark detection\n",
    "import dlib"
   ]
  },
  {
   "cell_type": "code",
   "execution_count": 4,
   "id": "540d0758",
   "metadata": {},
   "outputs": [],
   "source": [
    "cap = cv2.VideoCapture(0)\n",
    "# if cap.isOpened():\n",
    "#     print(f\"Camera founded\")\n",
    "#     cap.release()\n",
    "# else:\n",
    "#     print(f\"No camera not founded \")\n",
    "    "
   ]
  },
  {
   "cell_type": "code",
   "execution_count": 5,
   "id": "ab043693",
   "metadata": {},
   "outputs": [],
   "source": [
    "if not cap.isOpened():\n",
    "    print(\"Error: Could not open video source.\")\n",
    "    exit()"
   ]
  },
  {
   "cell_type": "code",
   "execution_count": 6,
   "id": "7ebb42f9",
   "metadata": {},
   "outputs": [],
   "source": [
    "#Initializing the face detector and landmark detector\n",
    "detector = dlib.get_frontal_face_detector()\n",
    "predictor = dlib.shape_predictor(\"shape_predictor_68_face_landmarks.dat\")"
   ]
  },
  {
   "cell_type": "code",
   "execution_count": 7,
   "id": "2faf502d",
   "metadata": {},
   "outputs": [],
   "source": [
    "sleep = 0\n",
    "drowsy = 0\n",
    "active = 0\n",
    "status=\"\"\n",
    "color=(0,0,0)"
   ]
  },
  {
   "cell_type": "code",
   "execution_count": 9,
   "id": "965be7f8",
   "metadata": {},
   "outputs": [],
   "source": [
    " # Calculate the Euclidean distance between two points\n",
    "def compute(ptA,ptB):\n",
    "\tdist = np.linalg.norm(ptA - ptB)\n",
    "\treturn dist"
   ]
  },
  {
   "cell_type": "code",
   "execution_count": 10,
   "id": "1d278944",
   "metadata": {},
   "outputs": [],
   "source": [
    "def blinked(a, b, c, d, e, f):\n",
    "    # Sum of the distances between upper eyelid points\n",
    "    up = compute(b, d) + compute(c, e)\n",
    "    # Distance between lower eyelid points\n",
    "    down = compute(a, f)\n",
    "    # Compute the eye aspect ratio (EAR)\n",
    "    ratio = up / (2.0 * down)\n",
    "\n",
    "    # Checking if it is blinked\n",
    "    if ratio > 0.25:\n",
    "        return 2  # Eyes are open\n",
    "    elif 0.21 < ratio <= 0.25:\n",
    "        return 1  # Eyes are partially open\n",
    "    else:\n",
    "        return 0  # Eyes are closed\n"
   ]
  },
  {
   "cell_type": "code",
   "execution_count": 11,
   "id": "4b62fd51",
   "metadata": {},
   "outputs": [
    {
     "name": "stdout",
     "output_type": "stream",
     "text": [
      "Error: Could not read frame.\n"
     ]
    }
   ],
   "source": [
    "while True:\n",
    "    # Capture frame-by-frame\n",
    "    ret, frame = cap.read()\n",
    "    if not ret or frame is None:\n",
    "        print(\"Error: Could not read frame.\")\n",
    "        break\n",
    "\n",
    "    # Convert the frame to grayscale\n",
    "    gray = cv2.cvtColor(frame, cv2.COLOR_BGR2GRAY)\n",
    "\n",
    "    # Perform face detection\n",
    "    faces = detector(gray)\n",
    "\n",
    "    # Copy the frame to draw landmarks and rectangles\n",
    "    face_frame = frame.copy()\n",
    "\n",
    "    for face in faces:\n",
    "        x1 = face.left()\n",
    "        y1 = face.top()\n",
    "        x2 = face.right()\n",
    "        y2 = face.bottom()\n",
    "\n",
    "        cv2.rectangle(face_frame, (x1, y1), (x2, y2), (0, 255, 0), 2)\n",
    "\n",
    "        # Predict landmarks\n",
    "        landmarks = predictor(gray, face)\n",
    "        landmarks = face_utils.shape_to_np(landmarks)\n",
    "\n",
    "        # Detect blinks\n",
    "        left_blink = blinked(landmarks[36], landmarks[37], \n",
    "                             landmarks[38], landmarks[41], landmarks[40], landmarks[39])\n",
    "        right_blink = blinked(landmarks[42], landmarks[43], \n",
    "                              landmarks[44], landmarks[47], landmarks[46], landmarks[45])\n",
    "        \n",
    "        # Judge what to do for the eye blinks\n",
    "        if left_blink == 0 or right_blink == 0:\n",
    "            sleep += 1\n",
    "            drowsy = 0\n",
    "            active = 0\n",
    "            if sleep > 6:\n",
    "                status = \"SLEEPING !!!\"\n",
    "                color = (255, 0, 0)\n",
    "        elif left_blink == 1 or right_blink == 1:\n",
    "            sleep = 0\n",
    "            active = 0\n",
    "            drowsy += 1\n",
    "            if drowsy > 2:\n",
    "                status = \"Drowsy !\"\n",
    "                color = (0, 0, 255)\n",
    "        else:\n",
    "            drowsy = 0\n",
    "            sleep = 0\n",
    "            active += 1\n",
    "            if active > 2:\n",
    "                status = \"Active :)\"\n",
    "                color = (0, 255, 0)\n",
    "        \n",
    "        cv2.putText(frame, status, (100, 100), cv2.FONT_HERSHEY_SIMPLEX, 1.2, color, 3)\n",
    "\n",
    "        for (x, y) in landmarks:\n",
    "            cv2.circle(face_frame, (x, y), 1, (255, 255, 255), -1)\n",
    "\n",
    "    # Display the resulting frame\n",
    "    cv2.imshow(\"Frame\", frame)\n",
    "    cv2.imshow(\"Result of detector\", face_frame)\n",
    "    \n",
    "    key = cv2.waitKey(1)\n",
    "    if key == 27:  # Exit on ESC key\n",
    "        break\n",
    "\n",
    "# Release the capture and close any OpenCV windows\n",
    "cap.release()\n",
    "cv2.destroyAllWindows()"
   ]
  },
  {
   "cell_type": "code",
   "execution_count": null,
   "id": "63338672",
   "metadata": {},
   "outputs": [],
   "source": []
  },
  {
   "cell_type": "code",
   "execution_count": null,
   "id": "e82c7335",
   "metadata": {},
   "outputs": [],
   "source": []
  }
 ],
 "metadata": {
  "kernelspec": {
   "display_name": "Python 3 (ipykernel)",
   "language": "python",
   "name": "python3"
  },
  "language_info": {
   "codemirror_mode": {
    "name": "ipython",
    "version": 3
   },
   "file_extension": ".py",
   "mimetype": "text/x-python",
   "name": "python",
   "nbconvert_exporter": "python",
   "pygments_lexer": "ipython3",
   "version": "3.11.2"
  }
 },
 "nbformat": 4,
 "nbformat_minor": 5
}
